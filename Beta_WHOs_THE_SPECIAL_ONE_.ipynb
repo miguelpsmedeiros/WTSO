{
  "nbformat": 4,
  "nbformat_minor": 0,
  "metadata": {
    "colab": {
      "name": "Beta_WHOs_THE_SPECIAL_ONE?",
      "provenance": [],
      "collapsed_sections": []
    },
    "kernelspec": {
      "name": "python3",
      "display_name": "Python 3"
    },
    "language_info": {
      "name": "python"
    }
  },
  "cells": [
    {
      "cell_type": "code",
      "metadata": {
        "id": "hbyeGt53wBUV"
      },
      "source": [
        "import pandas as pd\n",
        "import numpy as np"
      ],
      "execution_count": null,
      "outputs": []
    },
    {
      "cell_type": "code",
      "metadata": {
        "id": "NJD-uQc4wV3h"
      },
      "source": [
        "WTSO = pd.read_csv('/content/data_beta_version.csv')"
      ],
      "execution_count": null,
      "outputs": []
    },
    {
      "cell_type": "code",
      "metadata": {
        "colab": {
          "base_uri": "https://localhost:8080/"
        },
        "id": "XQnpWsx2E6H5",
        "outputId": "dd38bba4-230d-42cb-cb2c-b6d8a3944fba"
      },
      "source": [
        "gk = WTSO[WTSO['Cluster']=='GK']\n",
        "\n",
        "gk = gk.sample(n=2)\n",
        "\n",
        "gk['short_name'].values"
      ],
      "execution_count": null,
      "outputs": [
        {
          "output_type": "execute_result",
          "data": {
            "text/plain": [
              "array(['Unai Simón', 'A. Areola'], dtype=object)"
            ]
          },
          "metadata": {},
          "execution_count": 3
        }
      ]
    },
    {
      "cell_type": "code",
      "metadata": {
        "colab": {
          "base_uri": "https://localhost:8080/"
        },
        "id": "SViqCrIJfnep",
        "outputId": "b660585b-9321-482b-a80b-4f468fb3a1b3"
      },
      "source": [
        "gk['player_positions'] = gk['player_positions'].apply(lambda x: x.split(', '))\n",
        "\n",
        "gk['player_positions']"
      ],
      "execution_count": null,
      "outputs": [
        {
          "output_type": "execute_result",
          "data": {
            "text/plain": [
              "1     [GK]\n",
              "10    [GK]\n",
              "Name: player_positions, dtype: object"
            ]
          },
          "metadata": {},
          "execution_count": 4
        }
      ]
    },
    {
      "cell_type": "code",
      "metadata": {
        "id": "lucA1SshQk-3",
        "colab": {
          "base_uri": "https://localhost:8080/"
        },
        "outputId": "b999cbcc-4990-49a3-9ac9-2ed82f53ca90"
      },
      "source": [
        "cb = WTSO[WTSO['Cluster']=='Defense_center']\n",
        "\n",
        "cb = cb.sample(n=3)\n",
        "\n",
        "cb['short_name'].values"
      ],
      "execution_count": null,
      "outputs": [
        {
          "output_type": "execute_result",
          "data": {
            "text/plain": [
              "array(['C. Coady', 'Diego Carlos', 'M. Nastasić'], dtype=object)"
            ]
          },
          "metadata": {},
          "execution_count": 5
        }
      ]
    },
    {
      "cell_type": "code",
      "metadata": {
        "colab": {
          "base_uri": "https://localhost:8080/"
        },
        "id": "LTI5fwL_y-f0",
        "outputId": "586743de-9122-4320-e2e3-590cc156cf1c"
      },
      "source": [
        "cb['player_positions'] = cb['player_positions'].apply(lambda x: x.split(', '))\n",
        "\n",
        "cb['player_positions']"
      ],
      "execution_count": null,
      "outputs": [
        {
          "output_type": "execute_result",
          "data": {
            "text/plain": [
              "18    [CB]\n",
              "7     [CB]\n",
              "11    [CB]\n",
              "Name: player_positions, dtype: object"
            ]
          },
          "metadata": {},
          "execution_count": 6
        }
      ]
    },
    {
      "cell_type": "code",
      "metadata": {
        "colab": {
          "base_uri": "https://localhost:8080/"
        },
        "id": "Je9mA0MMkbOZ",
        "outputId": "4d18c0d4-ec34-4586-92bd-cf3795ef4c1e"
      },
      "source": [
        "lrb = WTSO[WTSO['Cluster']=='Defense_wing']\n",
        "\n",
        "lrb = lrb.sample(n=3)\n",
        "\n",
        "lrb['short_name'].values"
      ],
      "execution_count": null,
      "outputs": [
        {
          "output_type": "execute_result",
          "data": {
            "text/plain": [
              "array(['E. Hysaj', 'Gayà', 'M. Halstenberg'], dtype=object)"
            ]
          },
          "metadata": {},
          "execution_count": 7
        }
      ]
    },
    {
      "cell_type": "code",
      "metadata": {
        "colab": {
          "base_uri": "https://localhost:8080/"
        },
        "id": "M6mQkI5rzIS-",
        "outputId": "7d60554f-589b-41df-80b6-94475b07951a"
      },
      "source": [
        "lrb['player_positions'] = lrb['player_positions'].apply(lambda x: x.split(', '))\n",
        "\n",
        "lrb['player_positions']"
      ],
      "execution_count": null,
      "outputs": [
        {
          "output_type": "execute_result",
          "data": {
            "text/plain": [
              "2          [RB, LB]\n",
              "9              [LB]\n",
              "16    [LB, CB, LWB]\n",
              "Name: player_positions, dtype: object"
            ]
          },
          "metadata": {},
          "execution_count": 8
        }
      ]
    },
    {
      "cell_type": "code",
      "metadata": {
        "colab": {
          "base_uri": "https://localhost:8080/"
        },
        "id": "9hGi1Afcl1lc",
        "outputId": "84b2d4ed-8579-4438-ec94-86580526d46f"
      },
      "source": [
        "mc = WTSO[WTSO['Cluster']=='Midfield_center']\n",
        "\n",
        "mc = mc.sample(n=4)\n",
        "\n",
        "mc['short_name'].values"
      ],
      "execution_count": null,
      "outputs": [
        {
          "output_type": "execute_result",
          "data": {
            "text/plain": [
              "array(['V. Verre', 'N. Keïta', 'H. Aouar', 'G. Krychowiak'], dtype=object)"
            ]
          },
          "metadata": {},
          "execution_count": 9
        }
      ]
    },
    {
      "cell_type": "code",
      "metadata": {
        "colab": {
          "base_uri": "https://localhost:8080/"
        },
        "id": "YBGOUQ9GzS2N",
        "outputId": "f1d8fff4-2233-4594-a90a-0fd0e8fa71f2"
      },
      "source": [
        "mc['player_positions'] = mc['player_positions'].apply(lambda x: x.split(', '))\n",
        "\n",
        "mc['player_positions']"
      ],
      "execution_count": null,
      "outputs": [
        {
          "output_type": "execute_result",
          "data": {
            "text/plain": [
              "17    [CAM, CF, CM]\n",
              "14             [CM]\n",
              "6          [CM, LM]\n",
              "15        [CDM, CM]\n",
              "Name: player_positions, dtype: object"
            ]
          },
          "metadata": {},
          "execution_count": 10
        }
      ]
    },
    {
      "cell_type": "code",
      "metadata": {
        "colab": {
          "base_uri": "https://localhost:8080/"
        },
        "id": "P3u3XhkcmWUw",
        "outputId": "e5168246-d030-43c3-fdef-450fbed767d1"
      },
      "source": [
        "mw = WTSO[WTSO['Cluster']=='Midfield_wing']\n",
        "\n",
        "mw = mw.sample(n=3)\n",
        "\n",
        "mw['short_name'].values"
      ],
      "execution_count": null,
      "outputs": [
        {
          "output_type": "execute_result",
          "data": {
            "text/plain": [
              "array(['L. Trossard', 'K. Bellarabi', 'A. Townsend'], dtype=object)"
            ]
          },
          "metadata": {},
          "execution_count": 11
        }
      ]
    },
    {
      "cell_type": "code",
      "metadata": {
        "colab": {
          "base_uri": "https://localhost:8080/"
        },
        "id": "btytOWqjzdfc",
        "outputId": "176d806b-7237-43da-add7-b4c2e900bed7"
      },
      "source": [
        "mw['player_positions'] = mw['player_positions'].apply(lambda x: x.split(', '))\n",
        "\n",
        "mw['player_positions']"
      ],
      "execution_count": null,
      "outputs": [
        {
          "output_type": "execute_result",
          "data": {
            "text/plain": [
              "4     [LM, LW]\n",
              "19    [RM, RW]\n",
              "5     [RM, ST]\n",
              "Name: player_positions, dtype: object"
            ]
          },
          "metadata": {},
          "execution_count": 12
        }
      ]
    },
    {
      "cell_type": "code",
      "metadata": {
        "colab": {
          "base_uri": "https://localhost:8080/"
        },
        "id": "M78awLGeoPMM",
        "outputId": "c1f97483-6c42-4b81-b691-2be41dfc9751"
      },
      "source": [
        "aw = WTSO[WTSO['Cluster']=='Attack_wing']\n",
        "\n",
        "aw = aw.sample(n=3)\n",
        "\n",
        "aw['short_name'].values"
      ],
      "execution_count": null,
      "outputs": [
        {
          "output_type": "execute_result",
          "data": {
            "text/plain": [
              "array(['Portu', 'C. Hudson-Odoi', 'Muniain'], dtype=object)"
            ]
          },
          "metadata": {},
          "execution_count": 13
        }
      ]
    },
    {
      "cell_type": "code",
      "metadata": {
        "colab": {
          "base_uri": "https://localhost:8080/"
        },
        "id": "_dn3bq3Tzm9F",
        "outputId": "860fc563-74e1-42a8-ecb7-78feda81177d"
      },
      "source": [
        "aw['player_positions'] = aw['player_positions'].apply(lambda x: x.split(', '))\n",
        "\n",
        "aw['player_positions']"
      ],
      "execution_count": null,
      "outputs": [
        {
          "output_type": "execute_result",
          "data": {
            "text/plain": [
              "8      [RW, RM, CF]\n",
              "0          [RW, LW]\n",
              "12    [LW, CAM, RW]\n",
              "Name: player_positions, dtype: object"
            ]
          },
          "metadata": {},
          "execution_count": 14
        }
      ]
    },
    {
      "cell_type": "code",
      "metadata": {
        "colab": {
          "base_uri": "https://localhost:8080/"
        },
        "id": "RytBuXWMnBAT",
        "outputId": "e990fb33-10e4-48b9-e11b-567bdba2467d"
      },
      "source": [
        "ac = WTSO[WTSO['Cluster']=='Attack_center']\n",
        "\n",
        "ac = ac.sample(n=3)\n",
        "\n",
        "ac['short_name'].values"
      ],
      "execution_count": null,
      "outputs": [
        {
          "output_type": "execute_result",
          "data": {
            "text/plain": [
              "array(['D. Calvert-Lewin', 'A. Isak', 'A. Kravets'], dtype=object)"
            ]
          },
          "metadata": {},
          "execution_count": 15
        }
      ]
    },
    {
      "cell_type": "code",
      "metadata": {
        "colab": {
          "base_uri": "https://localhost:8080/"
        },
        "id": "Qxg_H3Xwzz0D",
        "outputId": "70c50ddc-7c7e-4a39-ee68-73667a05ba35"
      },
      "source": [
        "ac['player_positions'] = ac['player_positions'].apply(lambda x: x.split(', '))\n",
        "\n",
        "ac['player_positions']"
      ],
      "execution_count": null,
      "outputs": [
        {
          "output_type": "execute_result",
          "data": {
            "text/plain": [
              "3          [ST]\n",
              "20         [ST]\n",
              "13    [ST, CAM]\n",
              "Name: player_positions, dtype: object"
            ]
          },
          "metadata": {},
          "execution_count": 16
        }
      ]
    },
    {
      "cell_type": "code",
      "metadata": {
        "id": "r4D9DqP-E50b"
      },
      "source": [
        "merge_data = [gk, ac, mc, cb, mw, aw, lrb]\n",
        "\n",
        "players_21 = pd.concat(merge_data, 0)"
      ],
      "execution_count": null,
      "outputs": []
    },
    {
      "cell_type": "code",
      "metadata": {
        "id": "AExnP5Xk3umY"
      },
      "source": [
        "from itertools import chain\n",
        "\n",
        "list_21 = list(chain(gk['short_name'], ac['short_name'], mc['short_name'], cb['short_name'], mw['short_name'], aw['short_name'], \n",
        "                     lrb['short_name']))"
      ],
      "execution_count": null,
      "outputs": []
    },
    {
      "cell_type": "code",
      "metadata": {
        "id": "6cNOyz_mXV1i",
        "colab": {
          "base_uri": "https://localhost:8080/"
        },
        "outputId": "2d7772a3-d3c0-42ae-ea98-a19d49b8ea9e"
      },
      "source": [
        "import time\n",
        "\n",
        "tatics = {433: ['GK', 'LB', 'CB', 'CB', 'RB', 'CM', 'CM', 'CAM','LW', 'ST', 'RW'], \n",
        "          343: ['GK', 'CB', 'CB', 'CB', 'CM', 'CM', 'RWB','LWB', 'LW', 'ST', 'RW'],\n",
        "          442: ['GK', 'LB', 'CB', 'CB', 'RB', 'CM', 'CM', 'RM','LM', 'ST', 'ST'],\n",
        "          352: ['GK', 'CB', 'CB', 'CB', 'CM', 'CM', 'RM','LM', 'CAM', 'ST', 'ST'],\n",
        "          41212: ['GK', 'LB', 'CB', 'CB', 'RB', 'CDM', 'RM', 'LM','CAM', 'ST', 'ST'],\n",
        "          4123: ['GK', 'LB', 'CB', 'CB', 'RB', 'CDM', 'CM', 'CM','LW', 'ST', 'RW'],\n",
        "          4231: ['GK', 'LB', 'CB', 'CB', 'RB', 'CDM', 'CDM', 'CAM','LM', 'RM', 'ST']}\n",
        "\n",
        "points = 0\n",
        "\n",
        "players = list_21\n",
        "\n",
        "tatics_list = [k for k in tatics.keys()]\n",
        "\n",
        "coach_name = input(\"Hey Coach! Introduce yourself to the team, what's your name: \" )\n",
        "\n",
        "start_time = time.time()\n",
        "\n",
        "print(\"\\n\")\n",
        "\n",
        "print(f'{coach_name} these are your 21 players available for tonight: ')\n",
        "\n",
        "print(\"\\n\")\n",
        "\n",
        "print(np.array(players).reshape(21,-1))\n",
        "\n",
        "print(\"\\n\")\n",
        "\n",
        "print('Now that you know your players, choose the formation that best suits your desired starting 11: ', tatics_list)\n",
        "\n",
        "print(\"\\n\")\n",
        "\n",
        "nationalities_11 = []\n",
        "\n",
        "leagues_11 = []\n",
        "\n",
        "teams_11 = []\n",
        "\n",
        "t = tatics.copy()\n",
        "\n",
        "formation = int(input('tatic:'\u001c))\n",
        "\n",
        "print(\"\\n\")\n",
        "\n",
        "print(t[formation])\n",
        "\n",
        "print(\"\\n\")\n",
        "\n",
        "temp = t[formation].copy()\n",
        "\n",
        "players_1 = players.copy()\n",
        "\n",
        "for player in players:\n",
        "\n",
        "  print(f\"{coach_name} it's time to select the starting 11 : \")\n",
        "\n",
        "  print(\"\\n\")\n",
        "\n",
        "  print(players_1)\n",
        "\n",
        "  print(\"\\n\")\n",
        "\n",
        "  starters = input(f'do you want {player} to play:')\n",
        "\n",
        "  print(\"\\n\")\n",
        "\n",
        "  if starters == 'YES':\n",
        "\n",
        "    nationalities_11.append(players_21[players_21['short_name'] == player]['nationality'].values[0])\n",
        "\n",
        "    leagues_11.append(players_21[players_21['short_name'] == player]['league_name'].values[0])\n",
        "\n",
        "    teams_11.append(players_21[players_21['short_name'] == player]['club_name'].values[0])\n",
        "\n",
        "    print('where do you want him to play', player)\n",
        "\n",
        "    print(\"\\n\")\n",
        "\n",
        "    choose = input('choose position: ')\n",
        "\n",
        "    print(\"\\n\")\n",
        "\n",
        "    positions = players_21[players_21['short_name'] == player]['player_positions'].values[0]\n",
        "\n",
        "    temp.remove(choose)\n",
        "\n",
        "    print(temp)\n",
        "\n",
        "    print(\"\\n\")\n",
        "\n",
        "    players_1.remove(player)\n",
        "\n",
        "    if (choose in positions) & (choose in t[formation]):\n",
        "\n",
        "      points = points + 8\n",
        "\n",
        "    if choose in ['CB'] and bool(set(positions).intersection(set(['CDM', 'RB', 'LB']))):\n",
        "\n",
        "      points = points + 3\n",
        "\n",
        "    if choose in ['RB'] and bool(set(positions).intersection(set(['LB', 'CB', 'RM']))):\n",
        "\n",
        "      points = points + 3\n",
        "\n",
        "    if choose in ['LB'] and bool(set(positions).intersection(set(['RB', 'CB', 'LM']))):\n",
        "\n",
        "      points = points + 3\n",
        "\n",
        "    if choose in ['CDM'] and bool(set(positions).intersection(set(['CM']))):\n",
        "\n",
        "      points = points + 6\n",
        "            \n",
        "    if choose in ['CDM'] and bool(set(positions).intersection(set(['CB', 'CAM']))):\n",
        "\n",
        "      points = points + 3\n",
        "\n",
        "    if choose in ['RM'] and bool(set(positions).intersection(set(['RW']))):\n",
        "\n",
        "      points = points + 6\n",
        "\n",
        "    if choose in ['RM'] and bool(set(positions).intersection(set(['LM']))):\n",
        "\n",
        "      points = points + 5\n",
        "\n",
        "    if choose in ['RM'] and bool(set(positions).intersection(set(['LW']))):\n",
        "\n",
        "      points = points + 3\n",
        "\n",
        "    if choose in ['LM'] and bool(set(positions).intersection(set(['LW']))):\n",
        "\n",
        "      points = points + 6\n",
        "\n",
        "    if choose in ['LM'] and bool(set(positions).intersection(set(['RM']))):\n",
        "\n",
        "      points = points + 5\n",
        "\n",
        "    if choose in ['LM'] and bool(set(positions).intersection(set(['RW']))):\n",
        "\n",
        "      points = points + 3\n",
        "\n",
        "    if choose in ['LM', 'RM'] and bool(set(positions).intersection(set(['CM', 'CAM']))):\n",
        "\n",
        "      points = points + 3\n",
        "\n",
        "    if choose in ['CAM'] and bool(set(positions).intersection(set(['CM', 'CF']))):\n",
        "\n",
        "      points = points + 6\n",
        "\n",
        "    if choose in ['CAM'] and bool(set(positions).intersection(set(['CDM', 'RM', 'LM', 'ST']))):\n",
        "\n",
        "      points = points + 3\n",
        "\n",
        "    if choose in ['LW'] and bool(set(positions).intersection(set(['LM']))):\n",
        "\n",
        "      points = points + 6\n",
        "\n",
        "    if choose in ['LW'] and bool(set(positions).intersection(set(['RW']))):\n",
        "\n",
        "      points = points + 5\n",
        "\n",
        "    if choose in ['LW'] and bool(set(positions).intersection(set(['RM', 'ST']))):\n",
        "\n",
        "      points = points + 3\n",
        "\n",
        "    if choose in ['RW'] and bool(set(positions).intersection(set(['RM']))):\n",
        "\n",
        "      points = points + 6\n",
        "\n",
        "    if choose in ['RW'] and bool(set(positions).intersection(set(['LW']))):\n",
        "\n",
        "      points = points + 5\n",
        "\n",
        "    if choose in ['RW'] and bool(set(positions).intersection(set(['LM', 'ST']))):\n",
        "\n",
        "      points = points + 3\n",
        "\n",
        "    if choose in ['ST'] and bool(set(positions).intersection(set(['LM', 'RM', 'LW', 'RW', 'CAM', 'CF']))):\n",
        "\n",
        "      points = points + 4\n",
        "\n",
        "    else:\n",
        "\n",
        "      points = points + 0\n",
        "      \n",
        "  else:\n",
        "\n",
        "    players_1.remove(player)\n",
        "\n",
        "    continue\n",
        "\n",
        "nationalities_11_count = {i:nationalities_11.count(i) for i in nationalities_11}\n",
        "\n",
        "nationality_points = sum([i for i in nationalities_11_count.values() if i > 1])\n",
        "\n",
        "leagues_11_count = {i:leagues_11.count(i) for i in leagues_11}\n",
        "\n",
        "league_points = sum([i for i in leagues_11_count.values() if i > 1])\n",
        "\n",
        "teams_11_count = {i:teams_11.count(i) for i in teams_11}\n",
        "\n",
        "team_points = sum([i for i in teams_11_count.values() if i > 1])*2\n",
        "\n",
        "final_score = points + nationality_points + league_points + team_points\n",
        "\n",
        "print(\"\\n\")\n",
        "\n",
        "print(final_score)\n",
        "\n",
        "print(\"--- %s seconds ---\" % (time.time() - start_time))"
      ],
      "execution_count": null,
      "outputs": [
        {
          "output_type": "stream",
          "name": "stdout",
          "text": [
            "Hey Coach! Introduce yourself to the team, what's your name: m\n",
            "\n",
            "\n",
            "m these are your 21 players available for tonight: \n",
            "\n",
            "\n",
            "[['Unai Simón']\n",
            " ['A. Areola']\n",
            " ['D. Calvert-Lewin']\n",
            " ['A. Isak']\n",
            " ['A. Kravets']\n",
            " ['V. Verre']\n",
            " ['N. Keïta']\n",
            " ['H. Aouar']\n",
            " ['G. Krychowiak']\n",
            " ['C. Coady']\n",
            " ['Diego Carlos']\n",
            " ['M. Nastasić']\n",
            " ['L. Trossard']\n",
            " ['K. Bellarabi']\n",
            " ['A. Townsend']\n",
            " ['Portu']\n",
            " ['C. Hudson-Odoi']\n",
            " ['Muniain']\n",
            " ['E. Hysaj']\n",
            " ['Gayà']\n",
            " ['M. Halstenberg']]\n",
            "\n",
            "\n",
            "Now that you know your players, choose the formation that best suits your desired starting 11:  [433, 343, 442, 352, 41212, 4123, 4231]\n",
            "\n",
            "\n",
            "tatic:433\n",
            "\n",
            "\n",
            "['GK', 'LB', 'CB', 'CB', 'RB', 'CM', 'CM', 'CAM', 'LW', 'ST', 'RW']\n",
            "\n",
            "\n",
            "m it's time to select the starting 11 : \n",
            "\n",
            "\n",
            "['Unai Simón', 'A. Areola', 'D. Calvert-Lewin', 'A. Isak', 'A. Kravets', 'V. Verre', 'N. Keïta', 'H. Aouar', 'G. Krychowiak', 'C. Coady', 'Diego Carlos', 'M. Nastasić', 'L. Trossard', 'K. Bellarabi', 'A. Townsend', 'Portu', 'C. Hudson-Odoi', 'Muniain', 'E. Hysaj', 'Gayà', 'M. Halstenberg']\n",
            "\n",
            "\n",
            "do you want Unai Simón to play:YES\n",
            "\n",
            "\n",
            "where do you want him to play Unai Simón\n",
            "\n",
            "\n",
            "choose position: GK\n",
            "\n",
            "\n",
            "['LB', 'CB', 'CB', 'RB', 'CM', 'CM', 'CAM', 'LW', 'ST', 'RW']\n",
            "\n",
            "\n",
            "m it's time to select the starting 11 : \n",
            "\n",
            "\n",
            "['A. Areola', 'D. Calvert-Lewin', 'A. Isak', 'A. Kravets', 'V. Verre', 'N. Keïta', 'H. Aouar', 'G. Krychowiak', 'C. Coady', 'Diego Carlos', 'M. Nastasić', 'L. Trossard', 'K. Bellarabi', 'A. Townsend', 'Portu', 'C. Hudson-Odoi', 'Muniain', 'E. Hysaj', 'Gayà', 'M. Halstenberg']\n",
            "\n",
            "\n",
            "do you want A. Areola to play:NO\n",
            "\n",
            "\n",
            "m it's time to select the starting 11 : \n",
            "\n",
            "\n",
            "['D. Calvert-Lewin', 'A. Isak', 'A. Kravets', 'V. Verre', 'N. Keïta', 'H. Aouar', 'G. Krychowiak', 'C. Coady', 'Diego Carlos', 'M. Nastasić', 'L. Trossard', 'K. Bellarabi', 'A. Townsend', 'Portu', 'C. Hudson-Odoi', 'Muniain', 'E. Hysaj', 'Gayà', 'M. Halstenberg']\n",
            "\n",
            "\n",
            "do you want D. Calvert-Lewin to play:YES\n",
            "\n",
            "\n",
            "where do you want him to play D. Calvert-Lewin\n",
            "\n",
            "\n",
            "choose position: ST\n",
            "\n",
            "\n",
            "['LB', 'CB', 'CB', 'RB', 'CM', 'CM', 'CAM', 'LW', 'RW']\n",
            "\n",
            "\n",
            "m it's time to select the starting 11 : \n",
            "\n",
            "\n",
            "['A. Isak', 'A. Kravets', 'V. Verre', 'N. Keïta', 'H. Aouar', 'G. Krychowiak', 'C. Coady', 'Diego Carlos', 'M. Nastasić', 'L. Trossard', 'K. Bellarabi', 'A. Townsend', 'Portu', 'C. Hudson-Odoi', 'Muniain', 'E. Hysaj', 'Gayà', 'M. Halstenberg']\n",
            "\n",
            "\n",
            "do you want A. Isak to play:NO\n",
            "\n",
            "\n",
            "m it's time to select the starting 11 : \n",
            "\n",
            "\n",
            "['A. Kravets', 'V. Verre', 'N. Keïta', 'H. Aouar', 'G. Krychowiak', 'C. Coady', 'Diego Carlos', 'M. Nastasić', 'L. Trossard', 'K. Bellarabi', 'A. Townsend', 'Portu', 'C. Hudson-Odoi', 'Muniain', 'E. Hysaj', 'Gayà', 'M. Halstenberg']\n",
            "\n",
            "\n",
            "do you want A. Kravets to play:YES\n",
            "\n",
            "\n",
            "where do you want him to play A. Kravets\n",
            "\n",
            "\n",
            "choose position: CM\n",
            "\n",
            "\n",
            "['LB', 'CB', 'CB', 'RB', 'CM', 'CAM', 'LW', 'RW']\n",
            "\n",
            "\n",
            "m it's time to select the starting 11 : \n",
            "\n",
            "\n",
            "['V. Verre', 'N. Keïta', 'H. Aouar', 'G. Krychowiak', 'C. Coady', 'Diego Carlos', 'M. Nastasić', 'L. Trossard', 'K. Bellarabi', 'A. Townsend', 'Portu', 'C. Hudson-Odoi', 'Muniain', 'E. Hysaj', 'Gayà', 'M. Halstenberg']\n",
            "\n",
            "\n",
            "do you want V. Verre to play:NO\n",
            "\n",
            "\n",
            "m it's time to select the starting 11 : \n",
            "\n",
            "\n",
            "['N. Keïta', 'H. Aouar', 'G. Krychowiak', 'C. Coady', 'Diego Carlos', 'M. Nastasić', 'L. Trossard', 'K. Bellarabi', 'A. Townsend', 'Portu', 'C. Hudson-Odoi', 'Muniain', 'E. Hysaj', 'Gayà', 'M. Halstenberg']\n",
            "\n",
            "\n",
            "do you want N. Keïta to play:YES\n",
            "\n",
            "\n",
            "where do you want him to play N. Keïta\n",
            "\n",
            "\n",
            "choose position: CM\n",
            "\n",
            "\n",
            "['LB', 'CB', 'CB', 'RB', 'CAM', 'LW', 'RW']\n",
            "\n",
            "\n",
            "m it's time to select the starting 11 : \n",
            "\n",
            "\n",
            "['H. Aouar', 'G. Krychowiak', 'C. Coady', 'Diego Carlos', 'M. Nastasić', 'L. Trossard', 'K. Bellarabi', 'A. Townsend', 'Portu', 'C. Hudson-Odoi', 'Muniain', 'E. Hysaj', 'Gayà', 'M. Halstenberg']\n",
            "\n",
            "\n",
            "do you want H. Aouar to play:YES\n",
            "\n",
            "\n",
            "where do you want him to play H. Aouar\n",
            "\n",
            "\n",
            "choose position: CAM\n",
            "\n",
            "\n",
            "['LB', 'CB', 'CB', 'RB', 'LW', 'RW']\n",
            "\n",
            "\n",
            "m it's time to select the starting 11 : \n",
            "\n",
            "\n",
            "['G. Krychowiak', 'C. Coady', 'Diego Carlos', 'M. Nastasić', 'L. Trossard', 'K. Bellarabi', 'A. Townsend', 'Portu', 'C. Hudson-Odoi', 'Muniain', 'E. Hysaj', 'Gayà', 'M. Halstenberg']\n",
            "\n",
            "\n",
            "do you want G. Krychowiak to play:NO\n",
            "\n",
            "\n",
            "m it's time to select the starting 11 : \n",
            "\n",
            "\n",
            "['C. Coady', 'Diego Carlos', 'M. Nastasić', 'L. Trossard', 'K. Bellarabi', 'A. Townsend', 'Portu', 'C. Hudson-Odoi', 'Muniain', 'E. Hysaj', 'Gayà', 'M. Halstenberg']\n",
            "\n",
            "\n",
            "do you want C. Coady to play:YES\n",
            "\n",
            "\n",
            "where do you want him to play C. Coady\n",
            "\n",
            "\n",
            "choose position: CB\n",
            "\n",
            "\n",
            "['LB', 'CB', 'RB', 'LW', 'RW']\n",
            "\n",
            "\n",
            "m it's time to select the starting 11 : \n",
            "\n",
            "\n",
            "['Diego Carlos', 'M. Nastasić', 'L. Trossard', 'K. Bellarabi', 'A. Townsend', 'Portu', 'C. Hudson-Odoi', 'Muniain', 'E. Hysaj', 'Gayà', 'M. Halstenberg']\n",
            "\n",
            "\n",
            "do you want Diego Carlos to play:NO\n",
            "\n",
            "\n",
            "m it's time to select the starting 11 : \n",
            "\n",
            "\n",
            "['M. Nastasić', 'L. Trossard', 'K. Bellarabi', 'A. Townsend', 'Portu', 'C. Hudson-Odoi', 'Muniain', 'E. Hysaj', 'Gayà', 'M. Halstenberg']\n",
            "\n",
            "\n",
            "do you want M. Nastasić to play:YES\n",
            "\n",
            "\n",
            "where do you want him to play M. Nastasić\n",
            "\n",
            "\n",
            "choose position: CB\n",
            "\n",
            "\n",
            "['LB', 'RB', 'LW', 'RW']\n",
            "\n",
            "\n",
            "m it's time to select the starting 11 : \n",
            "\n",
            "\n",
            "['L. Trossard', 'K. Bellarabi', 'A. Townsend', 'Portu', 'C. Hudson-Odoi', 'Muniain', 'E. Hysaj', 'Gayà', 'M. Halstenberg']\n",
            "\n",
            "\n",
            "do you want L. Trossard to play:NO\n",
            "\n",
            "\n",
            "m it's time to select the starting 11 : \n",
            "\n",
            "\n",
            "['K. Bellarabi', 'A. Townsend', 'Portu', 'C. Hudson-Odoi', 'Muniain', 'E. Hysaj', 'Gayà', 'M. Halstenberg']\n",
            "\n",
            "\n",
            "do you want K. Bellarabi to play:YES\n",
            "\n",
            "\n",
            "where do you want him to play K. Bellarabi\n",
            "\n",
            "\n",
            "choose position: RW\n",
            "\n",
            "\n",
            "['LB', 'RB', 'LW']\n",
            "\n",
            "\n",
            "m it's time to select the starting 11 : \n",
            "\n",
            "\n",
            "['A. Townsend', 'Portu', 'C. Hudson-Odoi', 'Muniain', 'E. Hysaj', 'Gayà', 'M. Halstenberg']\n",
            "\n",
            "\n",
            "do you want A. Townsend to play:NO\n",
            "\n",
            "\n",
            "m it's time to select the starting 11 : \n",
            "\n",
            "\n",
            "['Portu', 'C. Hudson-Odoi', 'Muniain', 'E. Hysaj', 'Gayà', 'M. Halstenberg']\n",
            "\n",
            "\n",
            "do you want Portu to play:NO\n",
            "\n",
            "\n",
            "m it's time to select the starting 11 : \n",
            "\n",
            "\n",
            "['C. Hudson-Odoi', 'Muniain', 'E. Hysaj', 'Gayà', 'M. Halstenberg']\n",
            "\n",
            "\n",
            "do you want C. Hudson-Odoi to play:YES\n",
            "\n",
            "\n",
            "where do you want him to play C. Hudson-Odoi\n",
            "\n",
            "\n",
            "choose position: LW\n",
            "\n",
            "\n",
            "['LB', 'RB']\n",
            "\n",
            "\n",
            "m it's time to select the starting 11 : \n",
            "\n",
            "\n",
            "['Muniain', 'E. Hysaj', 'Gayà', 'M. Halstenberg']\n",
            "\n",
            "\n",
            "do you want Muniain to play:NO\n",
            "\n",
            "\n",
            "m it's time to select the starting 11 : \n",
            "\n",
            "\n",
            "['E. Hysaj', 'Gayà', 'M. Halstenberg']\n",
            "\n",
            "\n",
            "do you want E. Hysaj to play:NO\n",
            "\n",
            "\n",
            "m it's time to select the starting 11 : \n",
            "\n",
            "\n",
            "['Gayà', 'M. Halstenberg']\n",
            "\n",
            "\n",
            "do you want Gayà to play:YES\n",
            "\n",
            "\n",
            "where do you want him to play Gayà\n",
            "\n",
            "\n",
            "choose position: LB\n",
            "\n",
            "\n",
            "['RB']\n",
            "\n",
            "\n",
            "m it's time to select the starting 11 : \n",
            "\n",
            "\n",
            "['M. Halstenberg']\n",
            "\n",
            "\n",
            "do you want M. Halstenberg to play:YES\n",
            "\n",
            "\n",
            "where do you want him to play M. Halstenberg\n",
            "\n",
            "\n",
            "choose position: RB\n",
            "\n",
            "\n",
            "[]\n",
            "\n",
            "\n",
            "\n",
            "\n",
            "103\n",
            "--- 135.9697003364563 seconds ---\n"
          ]
        }
      ]
    },
    {
      "cell_type": "code",
      "metadata": {
        "id": "A154K1tgxcQS"
      },
      "source": [
        ""
      ],
      "execution_count": null,
      "outputs": []
    }
  ]
}